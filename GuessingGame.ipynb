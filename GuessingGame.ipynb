{
 "cells": [
  {
   "cell_type": "code",
   "execution_count": null,
   "id": "78494b59-3c67-4dec-94d7-19f89b241f3e",
   "metadata": {},
   "outputs": [
    {
     "name": "stdin",
     "output_type": "stream",
     "text": [
      "Guess the number:  12\n"
     ]
    },
    {
     "name": "stdout",
     "output_type": "stream",
     "text": [
      "12 is less than the secret number\n"
     ]
    }
   ],
   "source": [
    "secret_number = 20\n",
    " \n",
    "while True:\n",
    "   number = input('Guess the number: ')\n",
    " \n",
    "   try:\n",
    "       number = int(number)\n",
    "   except:\n",
    "       print('Sorry that is not a number')\n",
    "       continue\n",
    " \n",
    "   if number != secret_number:\n",
    "       if number > secret_number:\n",
    "           print(number, 'is greater than the secret number')\n",
    " \n",
    "       elif number < secret_number:\n",
    "           print(number, 'is less than the secret number')\n",
    "   else:\n",
    "       print('You guessed the number:', secret_number)\n",
    "       break"
   ]
  },
  {
   "cell_type": "code",
   "execution_count": null,
   "id": "744be09f-09d3-4c87-a4f7-df29430847be",
   "metadata": {},
   "outputs": [],
   "source": []
  }
 ],
 "metadata": {
  "kernelspec": {
   "display_name": "Python 3 (ipykernel)",
   "language": "python",
   "name": "python3"
  },
  "language_info": {
   "codemirror_mode": {
    "name": "ipython",
    "version": 3
   },
   "file_extension": ".py",
   "mimetype": "text/x-python",
   "name": "python",
   "nbconvert_exporter": "python",
   "pygments_lexer": "ipython3",
   "version": "3.13.2"
  }
 },
 "nbformat": 4,
 "nbformat_minor": 5
}
