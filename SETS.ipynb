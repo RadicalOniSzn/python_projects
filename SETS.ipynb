{
 "cells": [
  {
   "cell_type": "code",
   "execution_count": 1,
   "id": "2d9d71ad-f245-4eb5-bc02-90338cef6560",
   "metadata": {},
   "outputs": [
    {
     "ename": "TypeError",
     "evalue": "unhashable type: 'list'",
     "output_type": "error",
     "traceback": [
      "\u001b[1;31m---------------------------------------------------------------------------\u001b[0m",
      "\u001b[1;31mTypeError\u001b[0m                                 Traceback (most recent call last)",
      "Cell \u001b[1;32mIn[1], line 1\u001b[0m\n\u001b[1;32m----> 1\u001b[0m some_set1\u001b[38;5;241m=\u001b[39m{\u001b[38;5;241m10\u001b[39m,\u001b[38;5;241m22\u001b[39m,\u001b[38;5;241m48\u001b[39m,\u001b[38;5;241m11\u001b[39m,\u001b[38;5;241m19\u001b[39m,[\u001b[38;5;124m\"\u001b[39m\u001b[38;5;124mstella\u001b[39m\u001b[38;5;124m\"\u001b[39m,\u001b[38;5;124m\"\u001b[39m\u001b[38;5;124mairines\u001b[39m\u001b[38;5;124m\"\u001b[39m],(\u001b[38;5;124m\"\u001b[39m\u001b[38;5;124mShoes\u001b[39m\u001b[38;5;124m\"\u001b[39m,\u001b[38;5;124m\"\u001b[39m\u001b[38;5;124mMens Shoes\u001b[39m\u001b[38;5;124m\"\u001b[39m)}\n",
      "\u001b[1;31mTypeError\u001b[0m: unhashable type: 'list'"
     ]
    }
   ],
   "source": [
    "some_set1={10,22,48,11,19,[\"stella\",\"airines\"],(\"Shoes\",\"Mens Shoes\")}"
   ]
  },
  {
   "cell_type": "code",
   "execution_count": 3,
   "id": "d479711c-14f3-454f-a2e7-c4f468f413ff",
   "metadata": {},
   "outputs": [
    {
     "name": "stdout",
     "output_type": "stream",
     "text": [
      "<class 'set'>\n"
     ]
    }
   ],
   "source": [
    "Some_set2={10,22,48,11,19,('vigin''airines'),(\"Shoes\",\"Mens Shoes\")}\n",
    "print(type(Some_set2))"
   ]
  },
  {
   "cell_type": "code",
   "execution_count": 4,
   "id": "76651470-a321-4954-b0e6-0cc2603013e5",
   "metadata": {},
   "outputs": [
    {
     "name": "stdout",
     "output_type": "stream",
     "text": [
      "{1, 2, 3}\n"
     ]
    }
   ],
   "source": [
    "a={1,2,2,3,3,3}\n",
    "print(a)"
   ]
  },
  {
   "cell_type": "code",
   "execution_count": 1,
   "id": "c9888cb8-b4f4-4f3d-961e-96b0b85bc981",
   "metadata": {},
   "outputs": [],
   "source": [
    "set2=set()"
   ]
  },
  {
   "cell_type": "code",
   "execution_count": 2,
   "id": "c5754ff2-a912-408d-9994-722d6aaf277d",
   "metadata": {},
   "outputs": [
    {
     "name": "stdout",
     "output_type": "stream",
     "text": [
      "set()\n"
     ]
    }
   ],
   "source": [
    "print(set2)"
   ]
  },
  {
   "cell_type": "code",
   "execution_count": 8,
   "id": "59c392f2-0ab5-438c-810d-d52e36b23176",
   "metadata": {},
   "outputs": [
    {
     "name": "stdout",
     "output_type": "stream",
     "text": [
      "{'stella'}\n"
     ]
    }
   ],
   "source": [
    "set2.add(\"stella\")\n",
    "print(set2)"
   ]
  },
  {
   "cell_type": "code",
   "execution_count": 10,
   "id": "9d316620-ef71-4563-a1e5-2595c136a4f8",
   "metadata": {},
   "outputs": [
    {
     "name": "stdout",
     "output_type": "stream",
     "text": [
      "{'stella', 'airines'}\n"
     ]
    }
   ],
   "source": [
    "set2.add(\"airines\")\n",
    "print(set2)"
   ]
  },
  {
   "cell_type": "code",
   "execution_count": 11,
   "id": "a10c46b0-b262-485a-92e0-2c5f42baf2a0",
   "metadata": {},
   "outputs": [],
   "source": [
    "items=[\"jide\", \"victor\", \"david\"]\n",
    "set2.update(items)"
   ]
  },
  {
   "cell_type": "code",
   "execution_count": 23,
   "id": "55d585a0-742a-4d43-866d-6a0163723839",
   "metadata": {},
   "outputs": [],
   "source": [
    "set3={\"mattew\", \"ayo\",\"temi\",\"faith\",\"tolu\"}\n",
    "set4={\"femi\",\"tolu\",\"faith\",\"funsho\"}\n",
    "set5={\"femi\",\"tolu\",\"faith\",\"funsho\",1,0}"
   ]
  },
  {
   "cell_type": "code",
   "execution_count": 13,
   "id": "685d83c6-6d32-4003-8a38-c57365e76180",
   "metadata": {},
   "outputs": [
    {
     "data": {
      "text/plain": [
       "True"
      ]
     },
     "execution_count": 13,
     "metadata": {},
     "output_type": "execute_result"
    }
   ],
   "source": [
    "all(set3)"
   ]
  },
  {
   "cell_type": "code",
   "execution_count": 14,
   "id": "eaab50b0-f8b1-4fec-a019-afe068811cc6",
   "metadata": {},
   "outputs": [
    {
     "ename": "SyntaxError",
     "evalue": "invalid syntax (815569440.py, line 1)",
     "output_type": "error",
     "traceback": [
      "\u001b[1;36m  Cell \u001b[1;32mIn[14], line 1\u001b[1;36m\u001b[0m\n\u001b[1;33m    set4=(.,)\u001b[0m\n\u001b[1;37m          ^\u001b[0m\n\u001b[1;31mSyntaxError\u001b[0m\u001b[1;31m:\u001b[0m invalid syntax\n"
     ]
    }
   ],
   "source": [
    "set4=(.,)"
   ]
  },
  {
   "cell_type": "code",
   "execution_count": 16,
   "id": "f9fed715-5dfb-42fe-9663-696cb4a3f00f",
   "metadata": {},
   "outputs": [
    {
     "name": "stdout",
     "output_type": "stream",
     "text": [
      "(0, 'faith')\n",
      "(1, 'femi')\n",
      "(2, 'tolu')\n",
      "(3, 'funsho')\n"
     ]
    }
   ],
   "source": [
    "zee = enumerate(set4)\n",
    "for x in zee:\n",
    "    print(x)"
   ]
  },
  {
   "cell_type": "code",
   "execution_count": 8,
   "id": "9e646617-92d8-464e-8560-ee077d7a4437",
   "metadata": {},
   "outputs": [
    {
     "ename": "NameError",
     "evalue": "name 'femi' is not defined",
     "output_type": "error",
     "traceback": [
      "\u001b[1;31m---------------------------------------------------------------------------\u001b[0m",
      "\u001b[1;31mNameError\u001b[0m                                 Traceback (most recent call last)",
      "Cell \u001b[1;32mIn[8], line 2\u001b[0m\n\u001b[0;32m      1\u001b[0m st7\u001b[38;5;241m=\u001b[39m(\u001b[38;5;124m\"\u001b[39m\u001b[38;5;124mmattew\u001b[39m\u001b[38;5;124m\"\u001b[39m, \u001b[38;5;124m\"\u001b[39m\u001b[38;5;124mayo\u001b[39m\u001b[38;5;124m\"\u001b[39m,\u001b[38;5;124m\"\u001b[39m\u001b[38;5;124mtemi\u001b[39m\u001b[38;5;124m\"\u001b[39m, \u001b[38;5;124m\"\u001b[39m\u001b[38;5;124mmuyiwa\u001b[39m\u001b[38;5;124m\"\u001b[39m, \u001b[38;5;124m\"\u001b[39m\u001b[38;5;124mdamola\u001b[39m\u001b[38;5;124m\"\u001b[39m)\n\u001b[1;32m----> 2\u001b[0m tup1\u001b[38;5;241m=\u001b[39m(\u001b[43mfemi\u001b[49m,tolu,faith,funsho)\n",
      "\u001b[1;31mNameError\u001b[0m: name 'femi' is not defined"
     ]
    }
   ],
   "source": [
    "st7=(\"mattew\", \"ayo\",\"temi\", \"muyiwa\", \"damola\")\n",
    "tup1=(femi,tolu,faith,funsho)"
   ]
  },
  {
   "cell_type": "code",
   "execution_count": 21,
   "id": "949c3968-6283-4c2c-94c0-5ed70521e942",
   "metadata": {},
   "outputs": [
    {
     "data": {
      "text/plain": [
       "{'ayo', 'faith', 'femi', 'funsho', 'mattew', 'temi', 'tolu'}"
      ]
     },
     "execution_count": 21,
     "metadata": {},
     "output_type": "execute_result"
    }
   ],
   "source": [
    "set3.union(set4)"
   ]
  },
  {
   "cell_type": "code",
   "execution_count": 24,
   "id": "6c955383-c284-4351-99c1-882aa377b56e",
   "metadata": {},
   "outputs": [
    {
     "data": {
      "text/plain": [
       "{'faith', 'tolu'}"
      ]
     },
     "execution_count": 24,
     "metadata": {},
     "output_type": "execute_result"
    }
   ],
   "source": [
    "set3.intersection(set4)"
   ]
  },
  {
   "cell_type": "code",
   "execution_count": 25,
   "id": "78b47bcc-d0ed-46d5-b984-6f399b491dc4",
   "metadata": {},
   "outputs": [
    {
     "data": {
      "text/plain": [
       "{'ayo', 'mattew', 'temi'}"
      ]
     },
     "execution_count": 25,
     "metadata": {},
     "output_type": "execute_result"
    }
   ],
   "source": [
    "set3.difference(set4)"
   ]
  },
  {
   "cell_type": "code",
   "execution_count": null,
   "id": "4db6e95f-83a4-4f3e-bb68-5e1615170b56",
   "metadata": {},
   "outputs": [],
   "source": []
  },
  {
   "cell_type": "code",
   "execution_count": null,
   "id": "d394a450-36d3-464f-b498-4d6abea24a28",
   "metadata": {},
   "outputs": [],
   "source": []
  }
 ],
 "metadata": {
  "kernelspec": {
   "display_name": "Python 3 (ipykernel)",
   "language": "python",
   "name": "python3"
  },
  "language_info": {
   "codemirror_mode": {
    "name": "ipython",
    "version": 3
   },
   "file_extension": ".py",
   "mimetype": "text/x-python",
   "name": "python",
   "nbconvert_exporter": "python",
   "pygments_lexer": "ipython3",
   "version": "3.13.2"
  }
 },
 "nbformat": 4,
 "nbformat_minor": 5
}
